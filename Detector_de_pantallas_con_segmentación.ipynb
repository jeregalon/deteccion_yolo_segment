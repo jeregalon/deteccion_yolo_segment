{
  "cells": [
    {
      "cell_type": "markdown",
      "metadata": {
        "id": "view-in-github",
        "colab_type": "text"
      },
      "source": [
        "<a href=\"https://colab.research.google.com/github/jeregalon/deteccion_yolo_segment/blob/main/Detector_de_pantallas_con_segmentaci%C3%B3n.ipynb\" target=\"_parent\"><img src=\"https://colab.research.google.com/assets/colab-badge.svg\" alt=\"Open In Colab\"/></a>"
      ]
    },
    {
      "cell_type": "markdown",
      "source": [
        "Entrenamiento del modelo de visión artificial YOLOv11 para detectar objetos con segmentación.\n",
        "\n",
        "En este caso entreno el modelo para detectar pantallas de pesas digitales y otros instrumentos de medición, utilizando un dataset de elaboración propia hecho con LabelStudio."
      ],
      "metadata": {
        "id": "i9NIYCO6Jh8X"
      }
    },
    {
      "cell_type": "code",
      "execution_count": null,
      "metadata": {
        "id": "31WF-hAZEat4",
        "collapsed": true
      },
      "outputs": [],
      "source": [
        "# Importar el dataset desde Google Drive\n",
        "\n",
        "from google.colab import drive\n",
        "drive.mount('/content/gdrive')\n",
        "\n",
        "!cp /content/gdrive/MyDrive/data_seg.zip /content\n",
        "!cp /content/gdrive/MyDrive/yolo11n-seg.pt /content"
      ]
    },
    {
      "cell_type": "code",
      "execution_count": null,
      "metadata": {
        "id": "IIm9gpjOHRsS"
      },
      "outputs": [],
      "source": [
        "!unzip -q /content/data_seg.zip -d /content/custom_data"
      ]
    },
    {
      "cell_type": "code",
      "execution_count": null,
      "metadata": {
        "collapsed": true,
        "id": "o0KKOAQaH3tA"
      },
      "outputs": [],
      "source": [
        "# Dividiendo el dataset en datos de entrenamiento y datos de validación\n",
        "\n",
        "# El archivo train_val_split.py se encuentra en https://github.com/jeregalon/deteccion_yolo_segment/tree/main\n",
        "\n",
        "!python train_val_split.py --datapath=\"/content/custom_data/data\" --train_pct=0.9"
      ]
    },
    {
      "cell_type": "code",
      "execution_count": null,
      "metadata": {
        "id": "4IihCCxC_BJA"
      },
      "outputs": [],
      "source": [
        "!pip install ultralytics"
      ]
    },
    {
      "cell_type": "code",
      "execution_count": null,
      "metadata": {
        "id": "vDx6bVA3_Dl3"
      },
      "outputs": [],
      "source": [
        "# Python function to automatically create data.yaml config file\n",
        "# 1. Reads \"classes.txt\" file to get list of class names\n",
        "# 2. Creates data dictionary with correct paths to folders, number of classes, and names of classes\n",
        "# 3. Writes data in YAML format to data.yaml\n",
        "\n",
        "import yaml\n",
        "import os\n",
        "\n",
        "def create_data_yaml(path_to_classes_txt, path_to_data_yaml):\n",
        "\n",
        "  # Read class.txt to get class names\n",
        "  if not os.path.exists(path_to_classes_txt):\n",
        "    print(f'classes.txt file not found! Please create a classes.txt labelmap and move it to {path_to_classes_txt}')\n",
        "    return\n",
        "  with open(path_to_classes_txt, 'r') as f:\n",
        "    classes = []\n",
        "    for line in f.readlines():\n",
        "      if len(line.strip()) == 0: continue\n",
        "      classes.append(line.strip())\n",
        "  number_of_classes = len(classes)\n",
        "\n",
        "  # Create data dictionary\n",
        "  data = {\n",
        "      'path': '/content/data',\n",
        "      'train': 'train/images',\n",
        "      'val': 'validation/images',\n",
        "      'nc': number_of_classes,\n",
        "      'names': classes\n",
        "  }\n",
        "\n",
        "  # Write data to YAML file\n",
        "  with open(path_to_data_yaml, 'w') as f:\n",
        "    yaml.dump(data, f, sort_keys=False)\n",
        "  print(f'Created config file at {path_to_data_yaml}')\n",
        "\n",
        "  return\n",
        "\n",
        "# Define path to classes.txt and run function\n",
        "path_to_classes_txt = '/content/custom_data/data/classes.txt'\n",
        "path_to_data_yaml = '/content/data.yaml'\n",
        "\n",
        "create_data_yaml(path_to_classes_txt, path_to_data_yaml)\n",
        "\n",
        "print('\\nFile contents:\\n')\n",
        "!cat /content/data.yaml"
      ]
    },
    {
      "cell_type": "code",
      "execution_count": null,
      "metadata": {
        "id": "FHq5pS0_Zi8W"
      },
      "outputs": [],
      "source": [
        "# Entrenamiento del modelo\n",
        "\n",
        "!yolo obb train data=/content/data.yaml model=yolo11n-seg.pt epochs=200 imgsz=640\n",
        "\n",
        "# Si el código anterior te da error, puedes descargar el modelo desde la página\n",
        "# de Ultralytics y añadirlo a los archivos. Está disponible en:\n",
        "# https://docs.ultralytics.com/es/tasks/segment/\n",
        "\n",
        "# Cuando lo descargues y lo tengas entre tus archivos, ejecuta el siguiente código\n",
        "# en vez del anterior:\n",
        "\n",
        "# !yolo segment train data=/content/data.yaml model=/content/yolo11n-seg.pt epochs=200 imgsz=640\n",
        "\n"
      ]
    },
    {
      "cell_type": "code",
      "execution_count": null,
      "metadata": {
        "id": "9ylAtFcHAcZI"
      },
      "outputs": [],
      "source": [
        "!yolo segment predict model=runs/segment/train/weights/best.pt source=data/validation/images save=True"
      ]
    },
    {
      "cell_type": "code",
      "execution_count": null,
      "metadata": {
        "id": "nJ4EIPpmAhOQ"
      },
      "outputs": [],
      "source": [
        "import glob\n",
        "from IPython.display import Image, display\n",
        "for image_path in glob.glob(f'/content/segment/detect/predict/*.jpg')[:10]:\n",
        "  display(Image(filename=image_path, height=400))\n",
        "  print('\\n')"
      ]
    },
    {
      "cell_type": "code",
      "execution_count": null,
      "metadata": {
        "id": "p7T_BnuFAr_s",
        "colab": {
          "base_uri": "https://localhost:8080/"
        },
        "outputId": "9c1e20ad-d519-4065-ac5b-0ab0dad59ddc"
      },
      "outputs": [
        {
          "output_type": "stream",
          "name": "stdout",
          "text": [
            "mkdir: cannot create directory ‘/content/my_model’: File exists\n"
          ]
        }
      ],
      "source": [
        "# Create \"my_model\" folder to store model weights and train results\n",
        "!mkdir /content/my_model\n",
        "!cp /content/runs/segment/train/weights/best.pt /content/my_model/my_model.pt\n",
        "!cp -r /content/runs/segment/train /content/my_model"
      ]
    },
    {
      "cell_type": "code",
      "source": [
        "# Zip into \"my_model.zip\"\n",
        "%cd my_model\n",
        "!zip /content/my_model.zip my_model.pt\n",
        "!zip -r /content/my_model.zip train\n",
        "%cd /content"
      ],
      "metadata": {
        "id": "Vb_rNJ6MvEZS"
      },
      "execution_count": null,
      "outputs": []
    },
    {
      "cell_type": "code",
      "execution_count": null,
      "metadata": {
        "id": "JhKXPSwqAu5w",
        "collapsed": true
      },
      "outputs": [],
      "source": [
        "# Descargar el modelo a la computadora\n",
        "from google.colab import files\n",
        "\n",
        "files.download('/content/my_model.zip')"
      ]
    }
  ],
  "metadata": {
    "accelerator": "GPU",
    "colab": {
      "gpuType": "T4",
      "provenance": [],
      "include_colab_link": true
    },
    "kaggle": {
      "accelerator": "none",
      "dataSources": [],
      "dockerImageVersionId": 30786,
      "isGpuEnabled": false,
      "isInternetEnabled": true,
      "language": "python",
      "sourceType": "notebook"
    },
    "kernelspec": {
      "display_name": "Python 3",
      "name": "python3"
    },
    "language_info": {
      "codemirror_mode": {
        "name": "ipython",
        "version": 3
      },
      "file_extension": ".py",
      "mimetype": "text/x-python",
      "name": "python",
      "nbconvert_exporter": "python",
      "pygments_lexer": "ipython3",
      "version": "3.10.14"
    }
  },
  "nbformat": 4,
  "nbformat_minor": 0
}